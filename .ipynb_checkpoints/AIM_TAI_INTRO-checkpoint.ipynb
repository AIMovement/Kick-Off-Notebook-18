{
 "cells": [
  {
   "cell_type": "markdown",
   "metadata": {
    "slideshow": {
     "slide_type": "notes"
    }
   },
   "source": [
    "Run cmd: jupyter nbconvert AIM_TAI_INTRO.ipynb --to slides --post serve"
   ]
  },
  {
   "cell_type": "markdown",
   "metadata": {
    "slideshow": {
     "slide_type": "slide"
    }
   },
   "source": [
    "# A warm welcome to the resurrection of AIM, with TAI! "
   ]
  },
  {
   "cell_type": "markdown",
   "metadata": {
    "slideshow": {
     "slide_type": "slide"
    }
   },
   "source": [
    "## 68 People in Slack"
   ]
  },
  {
   "cell_type": "markdown",
   "metadata": {
    "slideshow": {
     "slide_type": "slide"
    }
   },
   "source": [
    "## Gothenburg represented: \n",
    "### Volvo Cars, Zenuity, Semcon, Volvo Group, Sigma, Elypta, CEVT, Monocl, Tummy Lab, TecTea, Stroller and more"
   ]
  },
  {
   "cell_type": "markdown",
   "metadata": {
    "slideshow": {
     "slide_type": "slide"
    }
   },
   "source": [
    "## About AIM\n",
    "* Communication: https://join.slack.com/t/aimovement/shared_invite/enQtNDQ0NzI4MDM5NjcwLTQyNTRlNWFkNjUwNWMzNzEyY2Y3OTUxMjkxYzg5MzdkOTRjYzQ3MmUwNmFhNjJlYmM4NWRmNjAxMTI4OWJlODg\n",
    "\n",
    "* Weekly meetings \n",
    "Date decided in Slack (ACTIVATE NOTIFICATIONS!) "
   ]
  },
  {
   "cell_type": "markdown",
   "metadata": {
    "slideshow": {
     "slide_type": "slide"
    }
   },
   "source": [
    "## What we've accomplished so far..."
   ]
  },
  {
   "cell_type": "markdown",
   "metadata": {
    "slideshow": {
     "slide_type": "fragment"
    }
   },
   "source": [
    "![title](img/comp1.png)"
   ]
  },
  {
   "cell_type": "markdown",
   "metadata": {
    "slideshow": {
     "slide_type": "fragment"
    }
   },
   "source": [
    "![title](img/comp2.png)"
   ]
  },
  {
   "cell_type": "markdown",
   "metadata": {
    "slideshow": {
     "slide_type": "subslide"
    }
   },
   "source": [
    "# Hackthon\n",
    "**Projects:**\n",
    "* Beer-machina 🍺\n",
    "* Shakespearifier 👴 \n",
    "* Predict WW2 weather ⛈️\n",
    "\n",
    "**Speakers:** \n",
    "* Mike Chow - VCC Mountain View\n",
    "* Daniel Langkilde - Annotell \n",
    "\n",
    "**Jury:**\n",
    "* Sebastian Ramos - Zenuity\n",
    "* Mike Chow - VCC Mountain View\n",
    "* Maria Larsson - Sigma/Volvo Group\n",
    "* Amanda Nilsson - Zenuity"
   ]
  },
  {
   "cell_type": "markdown",
   "metadata": {
    "slideshow": {
     "slide_type": "subslide"
    }
   },
   "source": [
    "### Project 1: OpenAI Gym Retro (https://github.com/openai/retro/tree/develop)\n",
    "![](img/gymretro.png)"
   ]
  },
  {
   "cell_type": "markdown",
   "metadata": {
    "slideshow": {
     "slide_type": "subslide"
    }
   },
   "source": [
    "### Project 2: Identification drone\n",
    "* E.g. Identify abnormal driving behaviour \n",
    "* Train on console-game? \n"
   ]
  },
  {
   "cell_type": "markdown",
   "metadata": {
    "slideshow": {
     "slide_type": "subslide"
    }
   },
   "source": [
    "### Project 3: Stock market predictions "
   ]
  },
  {
   "cell_type": "markdown",
   "metadata": {
    "slideshow": {
     "slide_type": "fragment"
    }
   },
   "source": [
    "#### ETF volatility\n",
    "**Data**: Historic closing price data for 28 ETFs at OMX <br>\n",
    "**Idea**: Stacking of SVMs/Penalized regression models/FF & GRU (LSTM) Neural Nets/Facebook's _prophet_ etc. to determine volatility vs. possible ROI.\n"
   ]
  },
  {
   "cell_type": "markdown",
   "metadata": {
    "slideshow": {
     "slide_type": "fragment"
    }
   },
   "source": [
    "![](img/comp3.png)"
   ]
  },
  {
   "cell_type": "markdown",
   "metadata": {
    "slideshow": {
     "slide_type": "slide"
    }
   },
   "source": [
    "## What to come... "
   ]
  },
  {
   "cell_type": "markdown",
   "metadata": {
    "slideshow": {
     "slide_type": "fragment"
    }
   },
   "source": [
    "YOU decide! Create a now project or join an existing... or compete on e.g. OpenAI or Kaggle "
   ]
  },
  {
   "cell_type": "markdown",
   "metadata": {
    "slideshow": {
     "slide_type": "slide"
    }
   },
   "source": [
    "## Inspiration "
   ]
  },
  {
   "cell_type": "markdown",
   "metadata": {
    "slideshow": {
     "slide_type": "subslide"
    }
   },
   "source": [
    "### Competitions"
   ]
  },
  {
   "cell_type": "markdown",
   "metadata": {
    "slideshow": {
     "slide_type": "subslide"
    }
   },
   "source": [
    "#### Kaggle (https://www.kaggle.com/competitions) \n",
    "\n",
    "![](img/activecomps.png)"
   ]
  },
  {
   "cell_type": "markdown",
   "metadata": {
    "slideshow": {
     "slide_type": "subslide"
    }
   },
   "source": [
    "#### Drivendata (https://www.drivendata.org/)\n",
    "![](img/drivendatacomp.png)"
   ]
  },
  {
   "cell_type": "markdown",
   "metadata": {
    "slideshow": {
     "slide_type": "slide"
    }
   },
   "source": [
    "### Other\n",
    "* Music-generating AI \n",
    "* Robot-SM (https://www.robotsm.se/home/) \n",
    "* Train networks on GTA (https://youtu.be/rvnHikUJ9T0)\n",
    "* Game speed runs \n",
    "\n",
    "etc..."
   ]
  },
  {
   "cell_type": "markdown",
   "metadata": {
    "slideshow": {
     "slide_type": "slide"
    }
   },
   "source": [
    "## Hackathon 2.0..."
   ]
  }
 ],
 "metadata": {
  "celltoolbar": "Slideshow",
  "kernelspec": {
   "display_name": "Python 2",
   "language": "python",
   "name": "python2"
  },
  "language_info": {
   "codemirror_mode": {
    "name": "ipython",
    "version": 2
   },
   "file_extension": ".py",
   "mimetype": "text/x-python",
   "name": "python",
   "nbconvert_exporter": "python",
   "pygments_lexer": "ipython2",
   "version": "2.7.13"
  }
 },
 "nbformat": 4,
 "nbformat_minor": 2
}
